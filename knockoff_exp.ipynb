{
 "cells": [
  {
   "cell_type": "code",
   "execution_count": 165,
   "metadata": {},
   "outputs": [],
   "source": [
    "import numpy as np\n",
    "import random as rd\n",
    "import pandas as pd\n",
    "import platform\n",
    "from random import choices\n",
    "import scipy.linalg as sl\n",
    "import matplotlib.pyplot as plt\n",
    "import matplotlib.animation as animation\n",
    "from sklearn.linear_model import lasso_path\n",
    "import time\n",
    "%matplotlib inline\n",
    "def Data_Generate(n=3000,p=1000,A_set={3.5,-3.5},true_size=30,sigma=1):\n",
    "    X=np.random.normal(0,1,(n,p))\n",
    "    X_mean=np.mean(X,axis=0)\n",
    "    X=X-X_mean\n",
    "    X_var=np.power(np.var(X,axis=0),0.5)\n",
    "    X=X/X_var\n",
    "    true_feature=pd.Series(range(p)).sample(n=true_size,replace=False).tolist()\n",
    "    true_beta=choices(list(A_set),k=true_size)\n",
    "    beta_all=np.zeros((p,1))\n",
    "    for i,features in enumerate(true_feature):\n",
    "        beta_all[features,0]=true_beta[i]\n",
    "    Y=np.dot(X,beta_all)+np.random.normal(0,1,(n,1))\n",
    "    return (X,true_feature,true_beta,Y,beta_all)\n",
    "def Knockoff_Construct(X):\n",
    "    design_var=np.dot(X.T,X)\n",
    "    p=X.shape[1]\n",
    "    s=min(np.linalg.eig(design_var)[0])\n",
    "    uhat=sl.svd(X,full_matrices=True)[0][:,p:2*p]\n",
    "    CTC=2*s*np.identity(p)-np.dot(s*np.identity(p),np.dot(np.linalg.inv(design_var),s*np.identity(p)))\n",
    "    C=sl.cholesky(CTC).T\n",
    "    Xhat=np.dot(X,np.identity(p)-np.dot(np.linalg.inv(design_var),s*np.identity(p)))+np.dot(uhat,C)\n",
    "    return Xhat\n",
    "def Simplest_W(X,Xhat,Y):\n",
    "    return np.where(np.abs(np.dot(X.T,Y))>=np.abs(np.dot(Xhat.T,Y)),np.abs(np.dot(X.T,Y)),-np.abs(np.dot(Xhat.T,Y)))\n",
    "def Simplest_Z(X,Xhat,Y):\n",
    "    return (np.abs(np.dot(X.T,Y)),np.abs(np.dot(Xhat.T,Y)))\n",
    "def Lasso_Z(X,Xhat,Y):\n",
    "    n=X.shape[0]\n",
    "    p=X.shape[1]\n",
    "    X_all=np.array([X.T,Xhat.T]).reshape((-1,n)).T\n",
    "    alpha,coef,useless1=lasso_path(X_all,Y,eps=1/(p*1000),n_alphas=p*1000)\n",
    "    Z_True=[]\n",
    "    Z_Knockoff=[]\n",
    "    for i in range(p):\n",
    "        try:\n",
    "            Z_True.append(alpha[np.nonzero(coef[:,i,:].reshape(-1))[0][0]])\n",
    "        except IndexError:\n",
    "            Z_True.append(0)\n",
    "        try:\n",
    "            Z_Knockoff.append(alpha[np.nonzero(coef[:,i+p,:].reshape(-1))[0][0]])\n",
    "        except IndexError:\n",
    "            Z_Knockoff.append(0)\n",
    "    return (np.array(Z_True),np.array(Z_Knockoff))\n",
    "def Lasso_W(X,Xhat,Y):\n",
    "    Z_True,Z_Knockoff=Lasso_Z(X,Xhat,Y)\n",
    "    return np.where(Z_True>=Z_Knockoff,Z_True,-Z_Knockoff)\n",
    "def Find_T(X,Xhat,Y,q,W_Function=Simplist_W):\n",
    "    W=W_Function(X,Xhat,Y)\n",
    "    sorted_W=np.sort(W[W>0])\n",
    "    for item in sorted_W:\n",
    "        qhat=len(W[W<=-item])/len(W[W>=item])\n",
    "        if q>qhat:\n",
    "            return item\n",
    "    return 'inf'\n",
    "def FDR_Cal(X,Xhat,Y,q,beta_all,W_Function=Simplist_W):\n",
    "    T=Find_T(X,Xhat,Y,q,W_Function=W_Function)\n",
    "    W=W_Function(X,Xhat,Y)\n",
    "    out=np.array([W.reshape(-1).tolist(),beta_all.reshape(-1).tolist()])\n",
    "    outcome=pd.DataFrame(out.T,columns=['W','beta'])\n",
    "    choosen=outcome[outcome.W>=T]\n",
    "    choosen_true=choosen[choosen.beta!=0]\n",
    "    print('choosen:'+str(len(choosen)))\n",
    "    print('choosen true:'+str(len(choosen_true)))\n",
    "    return 1-len(choosen_true)/len(choosen)\n",
    "def Plot_Out(X,Xhat,Y,q,beta_all,Z_Function=Simplist_Z,W_Function=Simplist_W):\n",
    "    Z_True,Z_Knockoff=Z_Function(X,Xhat,Y)\n",
    "    Z_X_NULL=[]\n",
    "    Z_Y_NULL=[]\n",
    "    Z_X_Not_NULL=[]\n",
    "    Z_Y_Not_NULL=[]\n",
    "    for i,item in enumerate(beta_all):\n",
    "        if item==0:\n",
    "            Z_X_NULL.append(Z_True[i])\n",
    "            Z_Y_NULL.append(Z_Knockoff[i])\n",
    "        else:\n",
    "            Z_X_Not_NULL.append(Z_True[i])\n",
    "            Z_Y_Not_NULL.append(Z_Knockoff[i])\n",
    "    Z_max=np.max(np.abs(W_Function(X,Xhat,Y)))\n",
    "    z= np.linspace(0, Z_max, 50)\n",
    "    T=Find_T(X,Xhat,Y,q,W_Function=W_Function)\n",
    "    T1=np.linspace(0, T, 50)\n",
    "    T2=np.linspace(T, T, 50)\n",
    "    plt.figure()\n",
    "    plt.plot(z,z,'--',color='blue')\n",
    "    plt.plot(T1,T2,color='black')\n",
    "    plt.plot(T2,T1,color='black')\n",
    "    p1=plt.scatter(Z_X_NULL, Z_Y_NULL, marker='s', c='black')\n",
    "    p2=plt.scatter(Z_X_Not_NULL, Z_Y_Not_NULL, marker='s', c='red')\n",
    "    plt.xlabel('Z True')\n",
    "    plt.ylabel('Z Knockoff')\n",
    "    plt.yticks([T],['T='+str(T)])\n",
    "    plt.xticks([T],['T='+str(T)])\n",
    "    plt.legend(handles=[p1,p2],labels=['NULL','Not NULL'],loc=0)\n",
    "    plt.title('Outcome of Simulation')\n",
    "    plt.show()\n",
    "    \n",
    "\n",
    "\n"
   ]
  },
  {
   "cell_type": "code",
   "execution_count": 171,
   "metadata": {},
   "outputs": [
    {
     "name": "stdout",
     "output_type": "stream",
     "text": [
      "[63, 600, 780, 55, 515, 434, 282, 28, 511, 245, 319, 859, 650, 691, 713, 15, 445, 165, 252, 685, 75, 627, 758, 262, 793, 52, 353, 34, 85, 49]\n"
     ]
    },
    {
     "data": {
      "image/png": "[encoded data removed]",
      "text/plain": [
       "<Figure size 432x288 with 1 Axes>"
      ]
     },
     "metadata": {
      "needs_background": "light"
     },
     "output_type": "display_data"
    },
    {
     "name": "stdout",
     "output_type": "stream",
     "text": [
      "choosen:31\n",
      "choosen true:30\n",
      "0.032258064516129004\n"
     ]
    }
   ],
   "source": [
    "X,true_feature,true_beta,Y,beta_all=Data_Generate(n=3000,p=1000,A_set={3.5,-3.5},true_size=30)\n",
    "Xhat=Knockoff_Construct(X)\n",
    "print(true_feature)\n",
    "q=0.05\n",
    "Plot_Out(X,Xhat,Y,q,beta_all,Z_Function=Simplest_Z,W_Function=Simplest_W)\n",
    "print(FDR_Cal(X,Xhat,Y,q,beta_all,W_Function=Simplest_W))"
   ]
  },
  {
   "cell_type": "code",
   "execution_count": 3,
   "metadata": {},
   "outputs": [
    {
     "data": {
      "text/html": [
       "<div>\n",
       "<style scoped>\n",
       "    .dataframe tbody tr th:only-of-type {\n",
       "        vertical-align: middle;\n",
       "    }\n",
       "\n",
       "    .dataframe tbody tr th {\n",
       "        vertical-align: top;\n",
       "    }\n",
       "\n",
       "    .dataframe thead th {\n",
       "        text-align: right;\n",
       "    }\n",
       "</style>\n",
       "<table border=\"1\" class=\"dataframe\">\n",
       "  <thead>\n",
       "    <tr style=\"text-align: right;\">\n",
       "      <th></th>\n",
       "      <th>W</th>\n",
       "      <th>beta</th>\n",
       "    </tr>\n",
       "  </thead>\n",
       "  <tbody>\n",
       "    <tr>\n",
       "      <th>631</th>\n",
       "      <td>240.447535</td>\n",
       "      <td>-0.3</td>\n",
       "    </tr>\n",
       "    <tr>\n",
       "      <th>672</th>\n",
       "      <td>220.980949</td>\n",
       "      <td>-0.3</td>\n",
       "    </tr>\n",
       "    <tr>\n",
       "      <th>987</th>\n",
       "      <td>205.480126</td>\n",
       "      <td>0.3</td>\n",
       "    </tr>\n",
       "    <tr>\n",
       "      <th>297</th>\n",
       "      <td>201.160013</td>\n",
       "      <td>0.3</td>\n",
       "    </tr>\n",
       "    <tr>\n",
       "      <th>68</th>\n",
       "      <td>190.472088</td>\n",
       "      <td>0.3</td>\n",
       "    </tr>\n",
       "    <tr>\n",
       "      <th>411</th>\n",
       "      <td>185.126181</td>\n",
       "      <td>-0.3</td>\n",
       "    </tr>\n",
       "    <tr>\n",
       "      <th>83</th>\n",
       "      <td>175.075312</td>\n",
       "      <td>-0.3</td>\n",
       "    </tr>\n",
       "    <tr>\n",
       "      <th>133</th>\n",
       "      <td>152.313944</td>\n",
       "      <td>-0.3</td>\n",
       "    </tr>\n",
       "    <tr>\n",
       "      <th>536</th>\n",
       "      <td>149.948795</td>\n",
       "      <td>0.3</td>\n",
       "    </tr>\n",
       "    <tr>\n",
       "      <th>564</th>\n",
       "      <td>129.807176</td>\n",
       "      <td>-0.2</td>\n",
       "    </tr>\n",
       "    <tr>\n",
       "      <th>821</th>\n",
       "      <td>126.672374</td>\n",
       "      <td>-0.3</td>\n",
       "    </tr>\n",
       "    <tr>\n",
       "      <th>727</th>\n",
       "      <td>120.514031</td>\n",
       "      <td>0.3</td>\n",
       "    </tr>\n",
       "    <tr>\n",
       "      <th>350</th>\n",
       "      <td>114.723171</td>\n",
       "      <td>0.1</td>\n",
       "    </tr>\n",
       "    <tr>\n",
       "      <th>261</th>\n",
       "      <td>111.942182</td>\n",
       "      <td>0.0</td>\n",
       "    </tr>\n",
       "    <tr>\n",
       "      <th>139</th>\n",
       "      <td>108.330848</td>\n",
       "      <td>0.1</td>\n",
       "    </tr>\n",
       "    <tr>\n",
       "      <th>114</th>\n",
       "      <td>107.517829</td>\n",
       "      <td>-0.2</td>\n",
       "    </tr>\n",
       "    <tr>\n",
       "      <th>817</th>\n",
       "      <td>101.222306</td>\n",
       "      <td>0.2</td>\n",
       "    </tr>\n",
       "    <tr>\n",
       "      <th>436</th>\n",
       "      <td>94.534751</td>\n",
       "      <td>0.0</td>\n",
       "    </tr>\n",
       "    <tr>\n",
       "      <th>640</th>\n",
       "      <td>93.286175</td>\n",
       "      <td>0.0</td>\n",
       "    </tr>\n",
       "    <tr>\n",
       "      <th>862</th>\n",
       "      <td>89.764360</td>\n",
       "      <td>0.0</td>\n",
       "    </tr>\n",
       "    <tr>\n",
       "      <th>442</th>\n",
       "      <td>84.151646</td>\n",
       "      <td>0.0</td>\n",
       "    </tr>\n",
       "    <tr>\n",
       "      <th>84</th>\n",
       "      <td>81.045693</td>\n",
       "      <td>0.0</td>\n",
       "    </tr>\n",
       "    <tr>\n",
       "      <th>990</th>\n",
       "      <td>79.311279</td>\n",
       "      <td>0.0</td>\n",
       "    </tr>\n",
       "    <tr>\n",
       "      <th>763</th>\n",
       "      <td>78.628862</td>\n",
       "      <td>0.0</td>\n",
       "    </tr>\n",
       "    <tr>\n",
       "      <th>338</th>\n",
       "      <td>76.796587</td>\n",
       "      <td>0.0</td>\n",
       "    </tr>\n",
       "    <tr>\n",
       "      <th>616</th>\n",
       "      <td>73.432660</td>\n",
       "      <td>0.0</td>\n",
       "    </tr>\n",
       "    <tr>\n",
       "      <th>138</th>\n",
       "      <td>72.469623</td>\n",
       "      <td>0.0</td>\n",
       "    </tr>\n",
       "    <tr>\n",
       "      <th>413</th>\n",
       "      <td>72.204453</td>\n",
       "      <td>0.0</td>\n",
       "    </tr>\n",
       "    <tr>\n",
       "      <th>216</th>\n",
       "      <td>71.798735</td>\n",
       "      <td>0.1</td>\n",
       "    </tr>\n",
       "    <tr>\n",
       "      <th>246</th>\n",
       "      <td>70.540746</td>\n",
       "      <td>0.0</td>\n",
       "    </tr>\n",
       "    <tr>\n",
       "      <th>...</th>\n",
       "      <td>...</td>\n",
       "      <td>...</td>\n",
       "    </tr>\n",
       "    <tr>\n",
       "      <th>739</th>\n",
       "      <td>-57.726327</td>\n",
       "      <td>0.0</td>\n",
       "    </tr>\n",
       "    <tr>\n",
       "      <th>240</th>\n",
       "      <td>-58.047114</td>\n",
       "      <td>0.0</td>\n",
       "    </tr>\n",
       "    <tr>\n",
       "      <th>829</th>\n",
       "      <td>-59.256136</td>\n",
       "      <td>0.0</td>\n",
       "    </tr>\n",
       "    <tr>\n",
       "      <th>919</th>\n",
       "      <td>-59.285515</td>\n",
       "      <td>0.0</td>\n",
       "    </tr>\n",
       "    <tr>\n",
       "      <th>713</th>\n",
       "      <td>-59.344091</td>\n",
       "      <td>0.0</td>\n",
       "    </tr>\n",
       "    <tr>\n",
       "      <th>588</th>\n",
       "      <td>-59.583842</td>\n",
       "      <td>0.0</td>\n",
       "    </tr>\n",
       "    <tr>\n",
       "      <th>598</th>\n",
       "      <td>-59.639206</td>\n",
       "      <td>0.0</td>\n",
       "    </tr>\n",
       "    <tr>\n",
       "      <th>188</th>\n",
       "      <td>-60.251581</td>\n",
       "      <td>0.0</td>\n",
       "    </tr>\n",
       "    <tr>\n",
       "      <th>998</th>\n",
       "      <td>-60.596162</td>\n",
       "      <td>0.0</td>\n",
       "    </tr>\n",
       "    <tr>\n",
       "      <th>786</th>\n",
       "      <td>-61.292461</td>\n",
       "      <td>0.0</td>\n",
       "    </tr>\n",
       "    <tr>\n",
       "      <th>414</th>\n",
       "      <td>-63.395622</td>\n",
       "      <td>0.0</td>\n",
       "    </tr>\n",
       "    <tr>\n",
       "      <th>342</th>\n",
       "      <td>-63.537946</td>\n",
       "      <td>0.0</td>\n",
       "    </tr>\n",
       "    <tr>\n",
       "      <th>823</th>\n",
       "      <td>-63.958606</td>\n",
       "      <td>0.0</td>\n",
       "    </tr>\n",
       "    <tr>\n",
       "      <th>592</th>\n",
       "      <td>-64.977227</td>\n",
       "      <td>0.0</td>\n",
       "    </tr>\n",
       "    <tr>\n",
       "      <th>38</th>\n",
       "      <td>-66.076669</td>\n",
       "      <td>0.0</td>\n",
       "    </tr>\n",
       "    <tr>\n",
       "      <th>481</th>\n",
       "      <td>-67.512793</td>\n",
       "      <td>0.0</td>\n",
       "    </tr>\n",
       "    <tr>\n",
       "      <th>983</th>\n",
       "      <td>-67.606485</td>\n",
       "      <td>0.0</td>\n",
       "    </tr>\n",
       "    <tr>\n",
       "      <th>953</th>\n",
       "      <td>-68.347779</td>\n",
       "      <td>0.0</td>\n",
       "    </tr>\n",
       "    <tr>\n",
       "      <th>227</th>\n",
       "      <td>-68.562147</td>\n",
       "      <td>0.0</td>\n",
       "    </tr>\n",
       "    <tr>\n",
       "      <th>502</th>\n",
       "      <td>-69.076876</td>\n",
       "      <td>0.0</td>\n",
       "    </tr>\n",
       "    <tr>\n",
       "      <th>283</th>\n",
       "      <td>-69.087289</td>\n",
       "      <td>0.0</td>\n",
       "    </tr>\n",
       "    <tr>\n",
       "      <th>721</th>\n",
       "      <td>-72.178512</td>\n",
       "      <td>0.0</td>\n",
       "    </tr>\n",
       "    <tr>\n",
       "      <th>737</th>\n",
       "      <td>-74.003631</td>\n",
       "      <td>0.0</td>\n",
       "    </tr>\n",
       "    <tr>\n",
       "      <th>850</th>\n",
       "      <td>-74.891423</td>\n",
       "      <td>0.0</td>\n",
       "    </tr>\n",
       "    <tr>\n",
       "      <th>748</th>\n",
       "      <td>-74.984427</td>\n",
       "      <td>0.0</td>\n",
       "    </tr>\n",
       "    <tr>\n",
       "      <th>512</th>\n",
       "      <td>-75.576536</td>\n",
       "      <td>0.0</td>\n",
       "    </tr>\n",
       "    <tr>\n",
       "      <th>797</th>\n",
       "      <td>-79.205941</td>\n",
       "      <td>0.0</td>\n",
       "    </tr>\n",
       "    <tr>\n",
       "      <th>22</th>\n",
       "      <td>-82.049657</td>\n",
       "      <td>0.0</td>\n",
       "    </tr>\n",
       "    <tr>\n",
       "      <th>908</th>\n",
       "      <td>-83.533433</td>\n",
       "      <td>0.0</td>\n",
       "    </tr>\n",
       "    <tr>\n",
       "      <th>960</th>\n",
       "      <td>-90.108568</td>\n",
       "      <td>0.0</td>\n",
       "    </tr>\n",
       "  </tbody>\n",
       "</table>\n",
       "<p>1000 rows × 2 columns</p>\n",
       "</div>"
      ],
      "text/plain": [
       "              W  beta\n",
       "631  240.447535  -0.3\n",
       "672  220.980949  -0.3\n",
       "987  205.480126   0.3\n",
       "297  201.160013   0.3\n",
       "68   190.472088   0.3\n",
       "411  185.126181  -0.3\n",
       "83   175.075312  -0.3\n",
       "133  152.313944  -0.3\n",
       "536  149.948795   0.3\n",
       "564  129.807176  -0.2\n",
       "821  126.672374  -0.3\n",
       "727  120.514031   0.3\n",
       "350  114.723171   0.1\n",
       "261  111.942182   0.0\n",
       "139  108.330848   0.1\n",
       "114  107.517829  -0.2\n",
       "817  101.222306   0.2\n",
       "436   94.534751   0.0\n",
       "640   93.286175   0.0\n",
       "862   89.764360   0.0\n",
       "442   84.151646   0.0\n",
       "84    81.045693   0.0\n",
       "990   79.311279   0.0\n",
       "763   78.628862   0.0\n",
       "338   76.796587   0.0\n",
       "616   73.432660   0.0\n",
       "138   72.469623   0.0\n",
       "413   72.204453   0.0\n",
       "216   71.798735   0.1\n",
       "246   70.540746   0.0\n",
       "..          ...   ...\n",
       "739  -57.726327   0.0\n",
       "240  -58.047114   0.0\n",
       "829  -59.256136   0.0\n",
       "919  -59.285515   0.0\n",
       "713  -59.344091   0.0\n",
       "588  -59.583842   0.0\n",
       "598  -59.639206   0.0\n",
       "188  -60.251581   0.0\n",
       "998  -60.596162   0.0\n",
       "786  -61.292461   0.0\n",
       "414  -63.395622   0.0\n",
       "342  -63.537946   0.0\n",
       "823  -63.958606   0.0\n",
       "592  -64.977227   0.0\n",
       "38   -66.076669   0.0\n",
       "481  -67.512793   0.0\n",
       "983  -67.606485   0.0\n",
       "953  -68.347779   0.0\n",
       "227  -68.562147   0.0\n",
       "502  -69.076876   0.0\n",
       "283  -69.087289   0.0\n",
       "721  -72.178512   0.0\n",
       "737  -74.003631   0.0\n",
       "850  -74.891423   0.0\n",
       "748  -74.984427   0.0\n",
       "512  -75.576536   0.0\n",
       "797  -79.205941   0.0\n",
       "22   -82.049657   0.0\n",
       "908  -83.533433   0.0\n",
       "960  -90.108568   0.0\n",
       "\n",
       "[1000 rows x 2 columns]"
      ]
     },
     "execution_count": 3,
     "metadata": {},
     "output_type": "execute_result"
    }
   ],
   "source": [
    "outcome.sort_values(by=['W'],ascending=False)"
   ]
  },
  {
   "cell_type": "code",
   "execution_count": 120,
   "metadata": {},
   "outputs": [
    {
     "name": "stdout",
     "output_type": "stream",
     "text": [
      "(1, 80, 40000)\n"
     ]
    },
    {
     "data": {
      "text/plain": [
       "0.1524909999999977"
      ]
     },
     "execution_count": 120,
     "metadata": {},
     "output_type": "execute_result"
    }
   ],
   "source": [
    "from sklearn.linear_model import lasso_path\n",
    "X,true_feature,true_beta,Y,beta_all=Data_Generate(n=100,p=40,A_set={3.5,-3.5},true_size=3)\n",
    "Xhat=Knockoff_Construct(X)\n",
    "Lasso_Z(X,Xhat,Y)\n",
    "begin=time.clock()\n",
    "alpha,coef,useless1=lasso_path(X,Y,eps=0.001,n_alphas=1000)\n",
    "time.clock()-begin"
   ]
  },
  {
   "cell_type": "code",
   "execution_count": 127,
   "metadata": {},
   "outputs": [
    {
     "data": {
      "text/plain": [
       "(array([3, 4]),)"
      ]
     },
     "execution_count": 127,
     "metadata": {},
     "output_type": "execute_result"
    }
   ],
   "source": [
    "a=np.array([0,0,0,1,2])\n",
    "np.nonzero(a)"
   ]
  },
  {
   "cell_type": "code",
   "execution_count": null,
   "metadata": {},
   "outputs": [],
   "source": []
  },
  {
   "cell_type": "code",
   "execution_count": null,
   "metadata": {},
   "outputs": [],
   "source": []
  },
  {
   "cell_type": "code",
   "execution_count": null,
   "metadata": {},
   "outputs": [],
   "source": []
  },
  {
   "cell_type": "code",
   "execution_count": 87,
   "metadata": {},
   "outputs": [
    {
     "name": "stdout",
     "output_type": "stream",
     "text": [
      "1\n",
      "3.762628450302383\n",
      "2\n",
      "3.0577448607039517\n",
      "3\n",
      "2.933480643546591\n",
      "4\n",
      "0.2833793578767625\n",
      "5\n",
      "0.2626244638741988\n",
      "6\n",
      "0.18844778393324643\n",
      "7\n",
      "0.1858596130724883\n",
      "8\n",
      "0.1845788881890893\n",
      "9\n",
      "0.1698814619126139\n",
      "10\n",
      "0.1641084617274299\n",
      "11\n",
      "0.15527693523342867\n",
      "12\n",
      "0.14692067893203822\n",
      "13\n",
      "0.14590827518125268\n",
      "14\n",
      "0.1361601099870509\n",
      "15\n",
      "0.13244570565504582\n",
      "16\n",
      "0.12794486680738676\n",
      "17\n",
      "0.10615532528546348\n",
      "18\n",
      "0.1004425572912389\n",
      "19\n",
      "0.09838043814966292\n",
      "20\n",
      "0.09636065500060577\n",
      "21\n",
      "0.09373196709485172\n",
      "22\n",
      "0.08567393063391388\n",
      "23\n",
      "0.08106337259032356\n",
      "24\n",
      "0.07059348271746126\n",
      "25\n",
      "0.06497234956394139\n",
      "26\n",
      "0.059798809257711125\n",
      "27\n",
      "0.05776669502328025\n",
      "28\n",
      "0.05171654138454305\n",
      "29\n",
      "0.04630004627582169\n",
      "30\n",
      "0.045036995794478056\n",
      "31\n",
      "0.04441845076445189\n",
      "33\n",
      "0.04202806381779772\n",
      "34\n",
      "0.040881551654099714\n",
      "35\n",
      "0.039492293505431736\n",
      "36\n",
      "0.03894990026979957\n",
      "37\n",
      "0.03841495634632294\n",
      "38\n",
      "0.03736700860098006\n",
      "39\n",
      "0.03634764853557801\n",
      "41\n",
      "0.034870510220727007\n",
      "42\n",
      "0.03231657069291835\n",
      "43\n",
      "0.030366744954672537\n",
      "44\n",
      "0.02644467182456112\n",
      "45\n",
      "0.024507846345233036\n",
      "46\n",
      "0.021195422877016992\n",
      "47\n",
      "0.014590827518125269\n",
      "48\n",
      "0.013522185536516728\n"
     ]
    }
   ],
   "source": [
    "j=0\n",
    "for i in range(1000):\n",
    "    a=coef[:,:,i].reshape(-1)\n",
    "    k=len(a[a!=0])\n",
    "    if k>j:\n",
    "        print(k)\n",
    "        print(alpha[i])\n",
    "        j=k\n",
    "    "
   ]
  },
  {
   "cell_type": "code",
   "execution_count": 96,
   "metadata": {},
   "outputs": [
    {
     "name": "stdout",
     "output_type": "stream",
     "text": [
      "(2, 3)\n"
     ]
    },
    {
     "data": {
      "text/plain": [
       "(2, 6)"
      ]
     },
     "execution_count": 96,
     "metadata": {},
     "output_type": "execute_result"
    }
   ],
   "source": [
    "a=np.array([[1,2,3],[3,4,4]])\n",
    "b=np.array([[5,6,4],[7,8,4]])\n",
    "print(a.shape)\n",
    "np.array([a.T,b.T]).reshape((-1,2)).T.shape"
   ]
  },
  {
   "cell_type": "code",
   "execution_count": null,
   "metadata": {},
   "outputs": [],
   "source": []
  },
  {
   "cell_type": "code",
   "execution_count": null,
   "metadata": {},
   "outputs": [],
   "source": []
  },
  {
   "cell_type": "code",
   "execution_count": null,
   "metadata": {},
   "outputs": [],
   "source": []
  },
  {
   "cell_type": "code",
   "execution_count": null,
   "metadata": {},
   "outputs": [],
   "source": []
  },
  {
   "cell_type": "code",
   "execution_count": null,
   "metadata": {},
   "outputs": [],
   "source": []
  },
  {
   "cell_type": "code",
   "execution_count": null,
   "metadata": {},
   "outputs": [],
   "source": []
  },
  {
   "cell_type": "code",
   "execution_count": null,
   "metadata": {},
   "outputs": [],
   "source": []
  },
  {
   "cell_type": "code",
   "execution_count": null,
   "metadata": {},
   "outputs": [],
   "source": []
  },
  {
   "cell_type": "code",
   "execution_count": null,
   "metadata": {},
   "outputs": [],
   "source": []
  },
  {
   "cell_type": "code",
   "execution_count": null,
   "metadata": {},
   "outputs": [],
   "source": []
  },
  {
   "cell_type": "code",
   "execution_count": null,
   "metadata": {},
   "outputs": [],
   "source": []
  },
  {
   "cell_type": "code",
   "execution_count": 78,
   "metadata": {},
   "outputs": [
    {
     "name": "stdout",
     "output_type": "stream",
     "text": [
      "[20.20880725 14.45663283  1.59813476  8.55618237  5.18024279]\n"
     ]
    }
   ],
   "source": [
    "X,true_feature,true_beta,Y=Data_Generate(n=10,p=5,A_set={3.5,-3.5},true_size=3)\n",
    "Knockoff_Construct(X)"
   ]
  },
  {
   "cell_type": "code",
   "execution_count": null,
   "metadata": {},
   "outputs": [],
   "source": []
  },
  {
   "cell_type": "code",
   "execution_count": 75,
   "metadata": {},
   "outputs": [
    {
     "data": {
      "text/plain": [
       "array([[0., 0., 0.]])"
      ]
     },
     "execution_count": 75,
     "metadata": {},
     "output_type": "execute_result"
    }
   ],
   "source": [
    "np.zeros((3,1)).T"
   ]
  },
  {
   "cell_type": "code",
   "execution_count": null,
   "metadata": {},
   "outputs": [],
   "source": []
  },
  {
   "cell_type": "code",
   "execution_count": null,
   "metadata": {},
   "outputs": [],
   "source": []
  },
  {
   "cell_type": "code",
   "execution_count": null,
   "metadata": {},
   "outputs": [],
   "source": []
  },
  {
   "cell_type": "code",
   "execution_count": 49,
   "metadata": {},
   "outputs": [
    {
     "data": {
      "text/plain": [
       "[5, 5, 5, 5, 0, 5, 5, 9, 4, 9]"
      ]
     },
     "execution_count": 49,
     "metadata": {},
     "output_type": "execute_result"
    }
   ],
   "source": [
    "rd.sample(range(1000),30)\n",
    "a=pd.Series(range(10))\n",
    "a.sample(n=10,replace=True).tolist()"
   ]
  },
  {
   "cell_type": "code",
   "execution_count": 42,
   "metadata": {},
   "outputs": [
    {
     "name": "stdout",
     "output_type": "stream",
     "text": [
      "Help on method sample in module random:\n",
      "\n",
      "sample(population, k) method of random.Random instance\n",
      "    Chooses k unique random elements from a population sequence or set.\n",
      "    \n",
      "    Returns a new list containing elements from the population while\n",
      "    leaving the original population unchanged.  The resulting list is\n",
      "    in selection order so that all sub-slices will also be valid random\n",
      "    samples.  This allows raffle winners (the sample) to be partitioned\n",
      "    into grand prize and second place winners (the subslices).\n",
      "    \n",
      "    Members of the population need not be hashable or unique.  If the\n",
      "    population contains repeats, then each occurrence is a possible\n",
      "    selection in the sample.\n",
      "    \n",
      "    To choose a sample in a range of integers, use range as an argument.\n",
      "    This is especially fast and space efficient for sampling from a\n",
      "    large population:   sample(range(10000000), 60)\n",
      "\n"
     ]
    }
   ],
   "source": [
    "help(rd.sample)"
   ]
  },
  {
   "cell_type": "code",
   "execution_count": 37,
   "metadata": {},
   "outputs": [
    {
     "name": "stdout",
     "output_type": "stream",
     "text": [
      "3.6.6\n"
     ]
    }
   ],
   "source": [
    "import platform\n",
    "print (platform.python_version())"
   ]
  },
  {
   "cell_type": "code",
   "execution_count": null,
   "metadata": {},
   "outputs": [],
   "source": []
  },
  {
   "cell_type": "code",
   "execution_count": 63,
   "metadata": {},
   "outputs": [
    {
     "name": "stdout",
     "output_type": "stream",
     "text": [
      "[-3.5, 3.5, 3.5]\n"
     ]
    }
   ],
   "source": [
    "Data_Generate(n=10,p=5,A_set={3.5,-3.5},true_size=3)"
   ]
  },
  {
   "cell_type": "code",
   "execution_count": 3,
   "metadata": {},
   "outputs": [
    {
     "ename": "TypeError",
     "evalue": "'set' object does not support indexing",
     "output_type": "error",
     "traceback": [
      "\u001b[0;31m---------------------------------------------------------------------------\u001b[0m",
      "\u001b[0;31mTypeError\u001b[0m                                 Traceback (most recent call last)",
      "\u001b[0;32m<ipython-input-3-8bc71255a22e>\u001b[0m in \u001b[0;36m<module>\u001b[0;34m\u001b[0m\n\u001b[0;32m----> 1\u001b[0;31m \u001b[0ma\u001b[0m\u001b[0;34m[\u001b[0m\u001b[0;36m1\u001b[0m\u001b[0;34m]\u001b[0m\u001b[0;34m\u001b[0m\u001b[0m\n\u001b[0m",
      "\u001b[0;31mTypeError\u001b[0m: 'set' object does not support indexing"
     ]
    }
   ],
   "source": [
    "a[1]"
   ]
  },
  {
   "cell_type": "code",
   "execution_count": null,
   "metadata": {},
   "outputs": [],
   "source": []
  }
 ],
 "metadata": {
  "kernelspec": {
   "display_name": "Python 3",
   "language": "python",
   "name": "python3"
  },
  "language_info": {
   "codemirror_mode": {
    "name": "ipython",
    "version": 3
   },
   "file_extension": ".py",
   "mimetype": "text/x-python",
   "name": "python",
   "nbconvert_exporter": "python",
   "pygments_lexer": "ipython3",
   "version": "3.6.6"
  }
 },
 "nbformat": 4,
 "nbformat_minor": 2
}
